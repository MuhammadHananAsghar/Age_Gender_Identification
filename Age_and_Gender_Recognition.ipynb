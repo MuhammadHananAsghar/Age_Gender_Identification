{
  "nbformat": 4,
  "nbformat_minor": 0,
  "metadata": {
    "colab": {
      "name": "Age and Gender Recognition.ipynb",
      "provenance": [],
      "collapsed_sections": []
    },
    "kernelspec": {
      "name": "python3",
      "display_name": "Python 3"
    },
    "language_info": {
      "name": "python"
    },
    "accelerator": "GPU"
  },
  "cells": [
    {
      "cell_type": "code",
      "metadata": {
        "colab": {
          "base_uri": "https://localhost:8080/"
        },
        "id": "3wiw7I6vynqm",
        "outputId": "6de76b8a-80c5-4960-eff3-ab79256954e7"
      },
      "source": [
        "!nvidia-smi"
      ],
      "execution_count": 1,
      "outputs": [
        {
          "output_type": "stream",
          "text": [
            "Mon Aug 16 16:28:03 2021       \n",
            "+-----------------------------------------------------------------------------+\n",
            "| NVIDIA-SMI 470.42.01    Driver Version: 460.32.03    CUDA Version: 11.2     |\n",
            "|-------------------------------+----------------------+----------------------+\n",
            "| GPU  Name        Persistence-M| Bus-Id        Disp.A | Volatile Uncorr. ECC |\n",
            "| Fan  Temp  Perf  Pwr:Usage/Cap|         Memory-Usage | GPU-Util  Compute M. |\n",
            "|                               |                      |               MIG M. |\n",
            "|===============================+======================+======================|\n",
            "|   0  Tesla T4            Off  | 00000000:00:04.0 Off |                    0 |\n",
            "| N/A   35C    P8     9W /  70W |      0MiB / 15109MiB |      0%      Default |\n",
            "|                               |                      |                  N/A |\n",
            "+-------------------------------+----------------------+----------------------+\n",
            "                                                                               \n",
            "+-----------------------------------------------------------------------------+\n",
            "| Processes:                                                                  |\n",
            "|  GPU   GI   CI        PID   Type   Process name                  GPU Memory |\n",
            "|        ID   ID                                                   Usage      |\n",
            "|=============================================================================|\n",
            "|  No running processes found                                                 |\n",
            "+-----------------------------------------------------------------------------+\n"
          ],
          "name": "stdout"
        }
      ]
    },
    {
      "cell_type": "code",
      "metadata": {
        "colab": {
          "resources": {
            "http://localhost:8080/nbextensions/google.colab/files.js": {
              "data": "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",
              "ok": true,
              "headers": [
                [
                  "content-type",
                  "application/javascript"
                ]
              ],
              "status": 200,
              "status_text": ""
            }
          },
          "base_uri": "https://localhost:8080/",
          "height": 73
        },
        "id": "idvIfNBJu8hM",
        "outputId": "f3e83f0c-6ffb-4347-d02e-4bc2a615947b"
      },
      "source": [
        "!pip install -q kaggle\n",
        "from google.colab import files\n",
        "files.upload()\n",
        "! mkdir ~/.kaggle\n",
        "! cp kaggle.json ~/.kaggle/\n",
        "! chmod 600 ~/.kaggle/kaggle.json"
      ],
      "execution_count": 2,
      "outputs": [
        {
          "output_type": "display_data",
          "data": {
            "text/html": [
              "\n",
              "     <input type=\"file\" id=\"files-dd6f7afa-11bd-4a60-82d1-c51c6bf68e9f\" name=\"files[]\" multiple disabled\n",
              "        style=\"border:none\" />\n",
              "     <output id=\"result-dd6f7afa-11bd-4a60-82d1-c51c6bf68e9f\">\n",
              "      Upload widget is only available when the cell has been executed in the\n",
              "      current browser session. Please rerun this cell to enable.\n",
              "      </output>\n",
              "      <script src=\"/nbextensions/google.colab/files.js\"></script> "
            ],
            "text/plain": [
              "<IPython.core.display.HTML object>"
            ]
          },
          "metadata": {
            "tags": []
          }
        },
        {
          "output_type": "stream",
          "text": [
            "Saving kaggle.json to kaggle.json\n"
          ],
          "name": "stdout"
        }
      ]
    },
    {
      "cell_type": "code",
      "metadata": {
        "colab": {
          "base_uri": "https://localhost:8080/"
        },
        "id": "1yd4469eydxf",
        "outputId": "0f1cb2f2-854f-4b80-9062-5508941b9bf6"
      },
      "source": [
        "!kaggle datasets download -d jangedoo/utkface-new"
      ],
      "execution_count": 3,
      "outputs": [
        {
          "output_type": "stream",
          "text": [
            "Downloading utkface-new.zip to /content\n",
            " 96% 317M/331M [00:03<00:00, 142MB/s]\n",
            "100% 331M/331M [00:03<00:00, 106MB/s]\n"
          ],
          "name": "stdout"
        }
      ]
    },
    {
      "cell_type": "code",
      "metadata": {
        "id": "gTOKY3FZyd4d"
      },
      "source": [
        "!unzip *.zip && rm -rf *.zip"
      ],
      "execution_count": null,
      "outputs": []
    },
    {
      "cell_type": "code",
      "metadata": {
        "id": "uvbUhvG-yeUs"
      },
      "source": [
        "import cv2\n",
        "import glob\n",
        "\n",
        "images = []\n",
        "ages = []\n",
        "genders = []\n",
        "\n",
        "images_path = glob.glob(\"/content/UTKFace/*\")\n",
        "for image_path in images_path:\n",
        "  age = int( image_path.split(\"_\")[0].split(\"/\")[-1])\n",
        "  gender = int(image_path.split(\"_\")[1])\n",
        "  ages.append(age)\n",
        "  genders.append(gender)\n",
        "  image = cv2.imread(image_path)\n",
        "  image = cv2.resize(image, (48, 48))\n",
        "  image = cv2.cvtColor(image, cv2.COLOR_BGR2RGB)\n",
        "  images.append(image)"
      ],
      "execution_count": 1,
      "outputs": []
    },
    {
      "cell_type": "code",
      "metadata": {
        "colab": {
          "base_uri": "https://localhost:8080/"
        },
        "id": "FPi4CSa5zcit",
        "outputId": "4a44e977-c427-4671-c091-4ebe03c66951"
      },
      "source": [
        "len(images)"
      ],
      "execution_count": 2,
      "outputs": [
        {
          "output_type": "execute_result",
          "data": {
            "text/plain": [
              "23708"
            ]
          },
          "metadata": {
            "tags": []
          },
          "execution_count": 2
        }
      ]
    },
    {
      "cell_type": "code",
      "metadata": {
        "id": "vqczFWwA0JBJ"
      },
      "source": [
        "labels=[]\n",
        "i=0\n",
        "while i<len(ages):\n",
        "  label=[]\n",
        "  label.append([ages[i]])\n",
        "  label.append([genders[i]])\n",
        "  labels.append(label)\n",
        "  i+=1"
      ],
      "execution_count": 3,
      "outputs": []
    },
    {
      "cell_type": "code",
      "metadata": {
        "colab": {
          "base_uri": "https://localhost:8080/"
        },
        "id": "SxP3kG-Z0ZMR",
        "outputId": "b8582018-a9eb-421d-e748-c20762373b01"
      },
      "source": [
        "labels[0]"
      ],
      "execution_count": 4,
      "outputs": [
        {
          "output_type": "execute_result",
          "data": {
            "text/plain": [
              "[[50], [1]]"
            ]
          },
          "metadata": {
            "tags": []
          },
          "execution_count": 4
        }
      ]
    },
    {
      "cell_type": "code",
      "metadata": {
        "id": "5zm3KV_Z0Zz3"
      },
      "source": [
        "import numpy as np\n",
        "images_f = np.array(images)\n",
        "labels_f = np.array(labels)\n",
        "images_f = images_f/255"
      ],
      "execution_count": 5,
      "outputs": []
    },
    {
      "cell_type": "code",
      "metadata": {
        "id": "v_mkH87H0-u2"
      },
      "source": [
        "from sklearn.model_selection import train_test_split\n",
        "\n",
        "X_train, X_test, y_train, y_test = train_test_split(images_f, labels_f, test_size=0.25, random_state=0)"
      ],
      "execution_count": 6,
      "outputs": []
    },
    {
      "cell_type": "code",
      "metadata": {
        "id": "m20ziuPu1Qz1"
      },
      "source": [
        "Y_train = [y_train[:,1],y_train[:,0]]\n",
        "Y_test = [y_test[:,1],y_test[:,0]]"
      ],
      "execution_count": 7,
      "outputs": []
    },
    {
      "cell_type": "code",
      "metadata": {
        "id": "X9rub9Og1hiT"
      },
      "source": [
        "import tensorflow as tf\n",
        "from tensorflow.keras.models import Model\n",
        "from tensorflow.keras.layers import Conv2D\n",
        "from tensorflow.keras.layers import MaxPooling2D\n",
        "from tensorflow.keras.layers import Input\n",
        "from tensorflow.keras.layers import Flatten\n",
        "from tensorflow.keras.layers import Dense\n",
        "from tensorflow.keras.layers import Dropout\n",
        "from tensorflow.keras.regularizers import l2\n",
        "from tensorflow.keras.preprocessing.image import ImageDataGenerator\n",
        "\n",
        "import numpy as np\n",
        "import matplotlib.pyplot as plt"
      ],
      "execution_count": 8,
      "outputs": []
    },
    {
      "cell_type": "code",
      "metadata": {
        "id": "9ol9-1j62Fhc"
      },
      "source": [
        "input = Input((48, 48, 3))\n",
        "x = Conv2D(filters=32, kernel_size=3, activation=tf.nn.relu, kernel_regularizer=l2(0.001))(input)\n",
        "x = Dropout(0.1)(x)\n",
        "x = Conv2D(filters=64, kernel_size=3, activation=tf.nn.relu, kernel_regularizer=l2(0.001))(x)\n",
        "x = Dropout(0.1)(x)\n",
        "x = Conv2D(filters=64, kernel_size=3, activation=tf.nn.relu, kernel_regularizer=l2(0.001))(x)\n",
        "x = Dropout(0.1)(x)\n",
        "x = Conv2D(filters=128, kernel_size=3, activation=tf.nn.relu, kernel_regularizer=l2(0.001))(x)\n",
        "x = Dropout(0.1)(x)\n",
        "flatten = Flatten()(x)\n",
        "dense_1= Dense(64,activation='relu')(flatten)\n",
        "dense_2= Dense(64,activation='relu')(flatten)\n",
        "dense_1=Dropout(0.2)(dense_1)\n",
        "dense_2=Dropout(0.2)(dense_2)\n",
        "sex= Dense(1,activation=\"sigmoid\",name='sex_out')(dense_1)\n",
        "age= Dense(1,activation=\"relu\",name='age_out')(dense_2)\n",
        "model = Model(inputs=[input], outputs=[sex,age])\n",
        "model.compile(loss=[\"binary_crossentropy\",\"mae\"], optimizer=\"Adam\",\n",
        "\tmetrics=[\"accuracy\"])"
      ],
      "execution_count": 9,
      "outputs": []
    },
    {
      "cell_type": "code",
      "metadata": {
        "colab": {
          "base_uri": "https://localhost:8080/"
        },
        "id": "yx800AY53iKA",
        "outputId": "fea70b2d-610c-4ef5-ec08-b75da93b7185"
      },
      "source": [
        "model.summary()"
      ],
      "execution_count": 10,
      "outputs": [
        {
          "output_type": "stream",
          "text": [
            "Model: \"model\"\n",
            "__________________________________________________________________________________________________\n",
            "Layer (type)                    Output Shape         Param #     Connected to                     \n",
            "==================================================================================================\n",
            "input_1 (InputLayer)            [(None, 48, 48, 3)]  0                                            \n",
            "__________________________________________________________________________________________________\n",
            "conv2d (Conv2D)                 (None, 46, 46, 32)   896         input_1[0][0]                    \n",
            "__________________________________________________________________________________________________\n",
            "dropout (Dropout)               (None, 46, 46, 32)   0           conv2d[0][0]                     \n",
            "__________________________________________________________________________________________________\n",
            "conv2d_1 (Conv2D)               (None, 44, 44, 64)   18496       dropout[0][0]                    \n",
            "__________________________________________________________________________________________________\n",
            "dropout_1 (Dropout)             (None, 44, 44, 64)   0           conv2d_1[0][0]                   \n",
            "__________________________________________________________________________________________________\n",
            "conv2d_2 (Conv2D)               (None, 42, 42, 64)   36928       dropout_1[0][0]                  \n",
            "__________________________________________________________________________________________________\n",
            "dropout_2 (Dropout)             (None, 42, 42, 64)   0           conv2d_2[0][0]                   \n",
            "__________________________________________________________________________________________________\n",
            "conv2d_3 (Conv2D)               (None, 40, 40, 128)  73856       dropout_2[0][0]                  \n",
            "__________________________________________________________________________________________________\n",
            "dropout_3 (Dropout)             (None, 40, 40, 128)  0           conv2d_3[0][0]                   \n",
            "__________________________________________________________________________________________________\n",
            "flatten (Flatten)               (None, 204800)       0           dropout_3[0][0]                  \n",
            "__________________________________________________________________________________________________\n",
            "dense (Dense)                   (None, 64)           13107264    flatten[0][0]                    \n",
            "__________________________________________________________________________________________________\n",
            "dense_1 (Dense)                 (None, 64)           13107264    flatten[0][0]                    \n",
            "__________________________________________________________________________________________________\n",
            "dropout_4 (Dropout)             (None, 64)           0           dense[0][0]                      \n",
            "__________________________________________________________________________________________________\n",
            "dropout_5 (Dropout)             (None, 64)           0           dense_1[0][0]                    \n",
            "__________________________________________________________________________________________________\n",
            "sex_out (Dense)                 (None, 1)            65          dropout_4[0][0]                  \n",
            "__________________________________________________________________________________________________\n",
            "age_out (Dense)                 (None, 1)            65          dropout_5[0][0]                  \n",
            "==================================================================================================\n",
            "Total params: 26,344,834\n",
            "Trainable params: 26,344,834\n",
            "Non-trainable params: 0\n",
            "__________________________________________________________________________________________________\n"
          ],
          "name": "stdout"
        }
      ]
    },
    {
      "cell_type": "code",
      "metadata": {
        "id": "5BdosQ_c3kAd"
      },
      "source": [
        "from tensorflow.keras.callbacks import ModelCheckpoint \n",
        "import tensorflow as tf\n",
        "fle_s='Age_sex_detection.h5'\n",
        "checkpointer = ModelCheckpoint(fle_s, monitor='val_loss',verbose=1,save_best_only=True,save_weights_only=False, mode='auto',save_freq='epoch')\n",
        "Early_stop=tf.keras.callbacks.EarlyStopping(patience=75, monitor='val_loss',restore_best_weights=True),\n",
        "callback_list=[checkpointer,Early_stop]"
      ],
      "execution_count": 11,
      "outputs": []
    },
    {
      "cell_type": "code",
      "metadata": {
        "colab": {
          "base_uri": "https://localhost:8080/"
        },
        "id": "FMlGA5AL3ugc",
        "outputId": "1467437e-ce99-4dd3-84d8-d2b3b60fc0e7"
      },
      "source": [
        "History=model.fit(X_train,Y_train,batch_size=64,validation_data=(X_test,Y_test),epochs=500,callbacks=[callback_list])"
      ],
      "execution_count": 12,
      "outputs": [
        {
          "output_type": "stream",
          "text": [
            "Epoch 1/500\n",
            "278/278 [==============================] - 46s 50ms/step - loss: 14.8828 - sex_out_loss: 0.6733 - age_out_loss: 14.0720 - sex_out_accuracy: 0.6484 - age_out_accuracy: 0.0465 - val_loss: 11.6013 - val_sex_out_loss: 0.4297 - val_age_out_loss: 11.0479 - val_sex_out_accuracy: 0.8180 - val_age_out_accuracy: 0.0405\n",
            "\n",
            "Epoch 00001: val_loss improved from inf to 11.60133, saving model to Age_sex_detection.h5\n",
            "Epoch 2/500\n",
            "278/278 [==============================] - 13s 46ms/step - loss: 10.6951 - sex_out_loss: 0.4180 - age_out_loss: 10.1566 - sex_out_accuracy: 0.7843 - age_out_accuracy: 0.0440 - val_loss: 9.2689 - val_sex_out_loss: 0.3274 - val_age_out_loss: 8.8220 - val_sex_out_accuracy: 0.8593 - val_age_out_accuracy: 0.0477\n",
            "\n",
            "Epoch 00002: val_loss improved from 11.60133 to 9.26894, saving model to Age_sex_detection.h5\n",
            "Epoch 3/500\n",
            "278/278 [==============================] - 13s 48ms/step - loss: 9.4972 - sex_out_loss: 0.3639 - age_out_loss: 9.0141 - sex_out_accuracy: 0.8341 - age_out_accuracy: 0.0423 - val_loss: 8.9443 - val_sex_out_loss: 0.3050 - val_age_out_loss: 8.5196 - val_sex_out_accuracy: 0.8643 - val_age_out_accuracy: 0.0479\n",
            "\n",
            "Epoch 00003: val_loss improved from 9.26894 to 8.94432, saving model to Age_sex_detection.h5\n",
            "Epoch 4/500\n",
            "278/278 [==============================] - 13s 46ms/step - loss: 8.7666 - sex_out_loss: 0.3307 - age_out_loss: 8.3155 - sex_out_accuracy: 0.8533 - age_out_accuracy: 0.0432 - val_loss: 8.4046 - val_sex_out_loss: 0.2837 - val_age_out_loss: 7.9990 - val_sex_out_accuracy: 0.8735 - val_age_out_accuracy: 0.0479\n",
            "\n",
            "Epoch 00004: val_loss improved from 8.94432 to 8.40462, saving model to Age_sex_detection.h5\n",
            "Epoch 5/500\n",
            "278/278 [==============================] - 13s 47ms/step - loss: 8.3466 - sex_out_loss: 0.3084 - age_out_loss: 7.9140 - sex_out_accuracy: 0.8620 - age_out_accuracy: 0.0429 - val_loss: 8.1410 - val_sex_out_loss: 0.2748 - val_age_out_loss: 7.7397 - val_sex_out_accuracy: 0.8757 - val_age_out_accuracy: 0.0479\n",
            "\n",
            "Epoch 00005: val_loss improved from 8.40462 to 8.14103, saving model to Age_sex_detection.h5\n",
            "Epoch 6/500\n",
            "278/278 [==============================] - 13s 47ms/step - loss: 7.8824 - sex_out_loss: 0.2878 - age_out_loss: 7.4654 - sex_out_accuracy: 0.8756 - age_out_accuracy: 0.0426 - val_loss: 7.7967 - val_sex_out_loss: 0.2588 - val_age_out_loss: 7.4067 - val_sex_out_accuracy: 0.8868 - val_age_out_accuracy: 0.0479\n",
            "\n",
            "Epoch 00006: val_loss improved from 8.14103 to 7.79669, saving model to Age_sex_detection.h5\n",
            "Epoch 7/500\n",
            "278/278 [==============================] - 13s 47ms/step - loss: 7.6044 - sex_out_loss: 0.2721 - age_out_loss: 7.1986 - sex_out_accuracy: 0.8839 - age_out_accuracy: 0.0426 - val_loss: 8.2207 - val_sex_out_loss: 0.2601 - val_age_out_loss: 7.8246 - val_sex_out_accuracy: 0.8865 - val_age_out_accuracy: 0.0477\n",
            "\n",
            "Epoch 00007: val_loss did not improve from 7.79669\n",
            "Epoch 8/500\n",
            "278/278 [==============================] - 13s 47ms/step - loss: 7.2790 - sex_out_loss: 0.2523 - age_out_loss: 6.8880 - sex_out_accuracy: 0.8892 - age_out_accuracy: 0.0433 - val_loss: 7.5765 - val_sex_out_loss: 0.2616 - val_age_out_loss: 7.1735 - val_sex_out_accuracy: 0.8876 - val_age_out_accuracy: 0.0476\n",
            "\n",
            "Epoch 00008: val_loss improved from 7.79669 to 7.57647, saving model to Age_sex_detection.h5\n",
            "Epoch 9/500\n",
            "278/278 [==============================] - 13s 47ms/step - loss: 6.9973 - sex_out_loss: 0.2371 - age_out_loss: 6.6165 - sex_out_accuracy: 0.8976 - age_out_accuracy: 0.0439 - val_loss: 7.5772 - val_sex_out_loss: 0.2768 - val_age_out_loss: 7.1542 - val_sex_out_accuracy: 0.8863 - val_age_out_accuracy: 0.0479\n",
            "\n",
            "Epoch 00009: val_loss did not improve from 7.57647\n",
            "Epoch 10/500\n",
            "278/278 [==============================] - 13s 47ms/step - loss: 6.8432 - sex_out_loss: 0.2286 - age_out_loss: 6.4656 - sex_out_accuracy: 0.9019 - age_out_accuracy: 0.0435 - val_loss: 7.3946 - val_sex_out_loss: 0.2844 - val_age_out_loss: 6.9591 - val_sex_out_accuracy: 0.8849 - val_age_out_accuracy: 0.0479\n",
            "\n",
            "Epoch 00010: val_loss improved from 7.57647 to 7.39461, saving model to Age_sex_detection.h5\n",
            "Epoch 11/500\n",
            "278/278 [==============================] - 13s 47ms/step - loss: 6.6464 - sex_out_loss: 0.2104 - age_out_loss: 6.2818 - sex_out_accuracy: 0.9132 - age_out_accuracy: 0.0468 - val_loss: 7.3736 - val_sex_out_loss: 0.2806 - val_age_out_loss: 6.9363 - val_sex_out_accuracy: 0.8913 - val_age_out_accuracy: 0.0479\n",
            "\n",
            "Epoch 00011: val_loss improved from 7.39461 to 7.37362, saving model to Age_sex_detection.h5\n",
            "Epoch 12/500\n",
            "278/278 [==============================] - 13s 47ms/step - loss: 6.3147 - sex_out_loss: 0.1940 - age_out_loss: 5.9616 - sex_out_accuracy: 0.9199 - age_out_accuracy: 0.0472 - val_loss: 8.0709 - val_sex_out_loss: 0.3085 - val_age_out_loss: 7.6011 - val_sex_out_accuracy: 0.8824 - val_age_out_accuracy: 0.0479\n",
            "\n",
            "Epoch 00012: val_loss did not improve from 7.37362\n",
            "Epoch 13/500\n",
            "278/278 [==============================] - 13s 47ms/step - loss: 6.2744 - sex_out_loss: 0.1840 - age_out_loss: 5.9267 - sex_out_accuracy: 0.9233 - age_out_accuracy: 0.0472 - val_loss: 7.2832 - val_sex_out_loss: 0.2968 - val_age_out_loss: 6.8198 - val_sex_out_accuracy: 0.8888 - val_age_out_accuracy: 0.0479\n",
            "\n",
            "Epoch 00013: val_loss improved from 7.37362 to 7.28319, saving model to Age_sex_detection.h5\n",
            "Epoch 14/500\n",
            "278/278 [==============================] - 13s 47ms/step - loss: 6.0674 - sex_out_loss: 0.1744 - age_out_loss: 5.7239 - sex_out_accuracy: 0.9295 - age_out_accuracy: 0.0472 - val_loss: 7.3077 - val_sex_out_loss: 0.3214 - val_age_out_loss: 6.8152 - val_sex_out_accuracy: 0.8915 - val_age_out_accuracy: 0.0479\n",
            "\n",
            "Epoch 00014: val_loss did not improve from 7.28319\n",
            "Epoch 15/500\n",
            "278/278 [==============================] - 13s 47ms/step - loss: 5.9040 - sex_out_loss: 0.1610 - age_out_loss: 5.5695 - sex_out_accuracy: 0.9339 - age_out_accuracy: 0.0472 - val_loss: 7.3899 - val_sex_out_loss: 0.3180 - val_age_out_loss: 6.8965 - val_sex_out_accuracy: 0.8881 - val_age_out_accuracy: 0.0479\n",
            "\n",
            "Epoch 00015: val_loss did not improve from 7.28319\n",
            "Epoch 16/500\n",
            "278/278 [==============================] - 13s 47ms/step - loss: 5.7579 - sex_out_loss: 0.1571 - age_out_loss: 5.4225 - sex_out_accuracy: 0.9356 - age_out_accuracy: 0.0472 - val_loss: 7.2320 - val_sex_out_loss: 0.3297 - val_age_out_loss: 6.7210 - val_sex_out_accuracy: 0.8907 - val_age_out_accuracy: 0.0479\n",
            "\n",
            "Epoch 00016: val_loss improved from 7.28319 to 7.23198, saving model to Age_sex_detection.h5\n",
            "Epoch 17/500\n",
            "278/278 [==============================] - 13s 47ms/step - loss: 5.6217 - sex_out_loss: 0.1429 - age_out_loss: 5.2953 - sex_out_accuracy: 0.9433 - age_out_accuracy: 0.0472 - val_loss: 7.3321 - val_sex_out_loss: 0.3385 - val_age_out_loss: 6.8083 - val_sex_out_accuracy: 0.8844 - val_age_out_accuracy: 0.0479\n",
            "\n",
            "Epoch 00017: val_loss did not improve from 7.23198\n",
            "Epoch 18/500\n",
            "278/278 [==============================] - 13s 48ms/step - loss: 5.4510 - sex_out_loss: 0.1393 - age_out_loss: 5.1247 - sex_out_accuracy: 0.9461 - age_out_accuracy: 0.0472 - val_loss: 7.2155 - val_sex_out_loss: 0.3375 - val_age_out_loss: 6.6895 - val_sex_out_accuracy: 0.8758 - val_age_out_accuracy: 0.0479\n",
            "\n",
            "Epoch 00018: val_loss improved from 7.23198 to 7.21554, saving model to Age_sex_detection.h5\n",
            "Epoch 19/500\n",
            "278/278 [==============================] - 13s 47ms/step - loss: 5.4255 - sex_out_loss: 0.1354 - age_out_loss: 5.0990 - sex_out_accuracy: 0.9458 - age_out_accuracy: 0.0472 - val_loss: 7.6303 - val_sex_out_loss: 0.3588 - val_age_out_loss: 7.0784 - val_sex_out_accuracy: 0.8892 - val_age_out_accuracy: 0.0479\n",
            "\n",
            "Epoch 00019: val_loss did not improve from 7.21554\n",
            "Epoch 20/500\n",
            "278/278 [==============================] - 13s 48ms/step - loss: 5.3892 - sex_out_loss: 0.1338 - age_out_loss: 5.0603 - sex_out_accuracy: 0.9477 - age_out_accuracy: 0.0472 - val_loss: 7.7530 - val_sex_out_loss: 0.3971 - val_age_out_loss: 7.1586 - val_sex_out_accuracy: 0.8892 - val_age_out_accuracy: 0.0479\n",
            "\n",
            "Epoch 00020: val_loss did not improve from 7.21554\n",
            "Epoch 21/500\n",
            "278/278 [==============================] - 13s 48ms/step - loss: 5.2415 - sex_out_loss: 0.1334 - age_out_loss: 4.9092 - sex_out_accuracy: 0.9461 - age_out_accuracy: 0.0472 - val_loss: 7.4400 - val_sex_out_loss: 0.3767 - val_age_out_loss: 6.8632 - val_sex_out_accuracy: 0.8843 - val_age_out_accuracy: 0.0479\n",
            "\n",
            "Epoch 00021: val_loss did not improve from 7.21554\n",
            "Epoch 22/500\n",
            "278/278 [==============================] - 13s 48ms/step - loss: 5.2310 - sex_out_loss: 0.1200 - age_out_loss: 4.9093 - sex_out_accuracy: 0.9533 - age_out_accuracy: 0.0472 - val_loss: 7.9154 - val_sex_out_loss: 0.3764 - val_age_out_loss: 7.3361 - val_sex_out_accuracy: 0.8890 - val_age_out_accuracy: 0.0479\n",
            "\n",
            "Epoch 00022: val_loss did not improve from 7.21554\n",
            "Epoch 23/500\n",
            "278/278 [==============================] - 13s 48ms/step - loss: 5.1865 - sex_out_loss: 0.1199 - age_out_loss: 4.8623 - sex_out_accuracy: 0.9533 - age_out_accuracy: 0.0472 - val_loss: 7.5902 - val_sex_out_loss: 0.3915 - val_age_out_loss: 6.9928 - val_sex_out_accuracy: 0.8832 - val_age_out_accuracy: 0.0479\n",
            "\n",
            "Epoch 00023: val_loss did not improve from 7.21554\n",
            "Epoch 24/500\n",
            "278/278 [==============================] - 13s 48ms/step - loss: 5.0736 - sex_out_loss: 0.1203 - age_out_loss: 4.7464 - sex_out_accuracy: 0.9521 - age_out_accuracy: 0.0472 - val_loss: 7.5015 - val_sex_out_loss: 0.4209 - val_age_out_loss: 6.8727 - val_sex_out_accuracy: 0.8890 - val_age_out_accuracy: 0.0479\n",
            "\n",
            "Epoch 00024: val_loss did not improve from 7.21554\n",
            "Epoch 25/500\n",
            "278/278 [==============================] - 13s 48ms/step - loss: 5.0703 - sex_out_loss: 0.1149 - age_out_loss: 4.7464 - sex_out_accuracy: 0.9563 - age_out_accuracy: 0.0472 - val_loss: 7.4806 - val_sex_out_loss: 0.5091 - val_age_out_loss: 6.7615 - val_sex_out_accuracy: 0.8947 - val_age_out_accuracy: 0.0479\n",
            "\n",
            "Epoch 00025: val_loss did not improve from 7.21554\n",
            "Epoch 26/500\n",
            "278/278 [==============================] - 13s 48ms/step - loss: 4.9152 - sex_out_loss: 0.1156 - age_out_loss: 4.5881 - sex_out_accuracy: 0.9546 - age_out_accuracy: 0.0472 - val_loss: 7.5893 - val_sex_out_loss: 0.4064 - val_age_out_loss: 6.9704 - val_sex_out_accuracy: 0.8878 - val_age_out_accuracy: 0.0479\n",
            "\n",
            "Epoch 00026: val_loss did not improve from 7.21554\n",
            "Epoch 27/500\n",
            "278/278 [==============================] - 13s 48ms/step - loss: 4.9523 - sex_out_loss: 0.1137 - age_out_loss: 4.6246 - sex_out_accuracy: 0.9555 - age_out_accuracy: 0.0472 - val_loss: 8.0774 - val_sex_out_loss: 0.5220 - val_age_out_loss: 7.3397 - val_sex_out_accuracy: 0.8863 - val_age_out_accuracy: 0.0479\n",
            "\n",
            "Epoch 00027: val_loss did not improve from 7.21554\n",
            "Epoch 28/500\n",
            "278/278 [==============================] - 13s 48ms/step - loss: 4.9392 - sex_out_loss: 0.1103 - age_out_loss: 4.6120 - sex_out_accuracy: 0.9572 - age_out_accuracy: 0.0472 - val_loss: 7.5696 - val_sex_out_loss: 0.4854 - val_age_out_loss: 6.8667 - val_sex_out_accuracy: 0.8880 - val_age_out_accuracy: 0.0479\n",
            "\n",
            "Epoch 00028: val_loss did not improve from 7.21554\n",
            "Epoch 29/500\n",
            "278/278 [==============================] - 13s 48ms/step - loss: 4.8429 - sex_out_loss: 0.1096 - age_out_loss: 4.5155 - sex_out_accuracy: 0.9579 - age_out_accuracy: 0.0472 - val_loss: 8.2900 - val_sex_out_loss: 0.5837 - val_age_out_loss: 7.4876 - val_sex_out_accuracy: 0.8885 - val_age_out_accuracy: 0.0479\n",
            "\n",
            "Epoch 00029: val_loss did not improve from 7.21554\n",
            "Epoch 30/500\n",
            "278/278 [==============================] - 13s 48ms/step - loss: 4.7998 - sex_out_loss: 0.1150 - age_out_loss: 4.4659 - sex_out_accuracy: 0.9546 - age_out_accuracy: 0.0472 - val_loss: 7.4404 - val_sex_out_loss: 0.4818 - val_age_out_loss: 6.7390 - val_sex_out_accuracy: 0.8870 - val_age_out_accuracy: 0.0479\n",
            "\n",
            "Epoch 00030: val_loss did not improve from 7.21554\n",
            "Epoch 31/500\n",
            "278/278 [==============================] - 13s 48ms/step - loss: 4.7289 - sex_out_loss: 0.1026 - age_out_loss: 4.4060 - sex_out_accuracy: 0.9619 - age_out_accuracy: 0.0472 - val_loss: 7.4895 - val_sex_out_loss: 0.4985 - val_age_out_loss: 6.7701 - val_sex_out_accuracy: 0.8880 - val_age_out_accuracy: 0.0479\n",
            "\n",
            "Epoch 00031: val_loss did not improve from 7.21554\n",
            "Epoch 32/500\n",
            "278/278 [==============================] - 13s 48ms/step - loss: 4.7303 - sex_out_loss: 0.1050 - age_out_loss: 4.4030 - sex_out_accuracy: 0.9609 - age_out_accuracy: 0.0472 - val_loss: 7.4866 - val_sex_out_loss: 0.4999 - val_age_out_loss: 6.7629 - val_sex_out_accuracy: 0.8871 - val_age_out_accuracy: 0.0479\n",
            "\n",
            "Epoch 00032: val_loss did not improve from 7.21554\n",
            "Epoch 33/500\n",
            "278/278 [==============================] - 13s 48ms/step - loss: 4.7047 - sex_out_loss: 0.1032 - age_out_loss: 4.3770 - sex_out_accuracy: 0.9602 - age_out_accuracy: 0.0472 - val_loss: 7.4613 - val_sex_out_loss: 0.5100 - val_age_out_loss: 6.7267 - val_sex_out_accuracy: 0.8878 - val_age_out_accuracy: 0.0479\n",
            "\n",
            "Epoch 00033: val_loss did not improve from 7.21554\n",
            "Epoch 34/500\n",
            "278/278 [==============================] - 13s 48ms/step - loss: 4.7204 - sex_out_loss: 0.1064 - age_out_loss: 4.3886 - sex_out_accuracy: 0.9591 - age_out_accuracy: 0.0472 - val_loss: 7.8335 - val_sex_out_loss: 0.5600 - val_age_out_loss: 7.0470 - val_sex_out_accuracy: 0.8858 - val_age_out_accuracy: 0.0479\n",
            "\n",
            "Epoch 00034: val_loss did not improve from 7.21554\n",
            "Epoch 35/500\n",
            "278/278 [==============================] - 13s 48ms/step - loss: 4.6754 - sex_out_loss: 0.1061 - age_out_loss: 4.3423 - sex_out_accuracy: 0.9587 - age_out_accuracy: 0.0472 - val_loss: 7.4024 - val_sex_out_loss: 0.4776 - val_age_out_loss: 6.6974 - val_sex_out_accuracy: 0.8849 - val_age_out_accuracy: 0.0479\n",
            "\n",
            "Epoch 00035: val_loss did not improve from 7.21554\n",
            "Epoch 36/500\n",
            "278/278 [==============================] - 13s 48ms/step - loss: 4.6604 - sex_out_loss: 0.1046 - age_out_loss: 4.3284 - sex_out_accuracy: 0.9601 - age_out_accuracy: 0.0472 - val_loss: 7.3815 - val_sex_out_loss: 0.4891 - val_age_out_loss: 6.6648 - val_sex_out_accuracy: 0.8871 - val_age_out_accuracy: 0.0479\n",
            "\n",
            "Epoch 00036: val_loss did not improve from 7.21554\n",
            "Epoch 37/500\n",
            "278/278 [==============================] - 13s 48ms/step - loss: 4.6026 - sex_out_loss: 0.0993 - age_out_loss: 4.2751 - sex_out_accuracy: 0.9621 - age_out_accuracy: 0.0472 - val_loss: 7.5521 - val_sex_out_loss: 0.5792 - val_age_out_loss: 6.7442 - val_sex_out_accuracy: 0.8866 - val_age_out_accuracy: 0.0479\n",
            "\n",
            "Epoch 00037: val_loss did not improve from 7.21554\n",
            "Epoch 38/500\n",
            "278/278 [==============================] - 13s 48ms/step - loss: 4.5972 - sex_out_loss: 0.0976 - age_out_loss: 4.2712 - sex_out_accuracy: 0.9643 - age_out_accuracy: 0.0472 - val_loss: 7.6155 - val_sex_out_loss: 0.4766 - val_age_out_loss: 6.9107 - val_sex_out_accuracy: 0.8848 - val_age_out_accuracy: 0.0479\n",
            "\n",
            "Epoch 00038: val_loss did not improve from 7.21554\n",
            "Epoch 39/500\n",
            "278/278 [==============================] - 13s 48ms/step - loss: 4.5802 - sex_out_loss: 0.1042 - age_out_loss: 4.2474 - sex_out_accuracy: 0.9609 - age_out_accuracy: 0.0472 - val_loss: 7.5671 - val_sex_out_loss: 0.4568 - val_age_out_loss: 6.8809 - val_sex_out_accuracy: 0.8856 - val_age_out_accuracy: 0.0479\n",
            "\n",
            "Epoch 00039: val_loss did not improve from 7.21554\n",
            "Epoch 40/500\n",
            "278/278 [==============================] - 13s 48ms/step - loss: 4.5519 - sex_out_loss: 0.1018 - age_out_loss: 4.2200 - sex_out_accuracy: 0.9616 - age_out_accuracy: 0.0472 - val_loss: 8.1561 - val_sex_out_loss: 0.4661 - val_age_out_loss: 7.4598 - val_sex_out_accuracy: 0.8885 - val_age_out_accuracy: 0.0479\n",
            "\n",
            "Epoch 00040: val_loss did not improve from 7.21554\n",
            "Epoch 41/500\n",
            "278/278 [==============================] - 13s 48ms/step - loss: 4.5173 - sex_out_loss: 0.1001 - age_out_loss: 4.1870 - sex_out_accuracy: 0.9623 - age_out_accuracy: 0.0472 - val_loss: 8.2270 - val_sex_out_loss: 0.5311 - val_age_out_loss: 7.4659 - val_sex_out_accuracy: 0.8881 - val_age_out_accuracy: 0.0479\n",
            "\n",
            "Epoch 00041: val_loss did not improve from 7.21554\n",
            "Epoch 42/500\n",
            "278/278 [==============================] - 13s 48ms/step - loss: 4.5155 - sex_out_loss: 0.0974 - age_out_loss: 4.1881 - sex_out_accuracy: 0.9634 - age_out_accuracy: 0.0472 - val_loss: 7.4905 - val_sex_out_loss: 0.5473 - val_age_out_loss: 6.7124 - val_sex_out_accuracy: 0.8844 - val_age_out_accuracy: 0.0479\n",
            "\n",
            "Epoch 00042: val_loss did not improve from 7.21554\n",
            "Epoch 43/500\n",
            "278/278 [==============================] - 13s 48ms/step - loss: 4.4845 - sex_out_loss: 0.0960 - age_out_loss: 4.1573 - sex_out_accuracy: 0.9644 - age_out_accuracy: 0.0472 - val_loss: 7.3340 - val_sex_out_loss: 0.4975 - val_age_out_loss: 6.6051 - val_sex_out_accuracy: 0.8876 - val_age_out_accuracy: 0.0479\n",
            "\n",
            "Epoch 00043: val_loss did not improve from 7.21554\n",
            "Epoch 44/500\n",
            "278/278 [==============================] - 13s 48ms/step - loss: 4.3985 - sex_out_loss: 0.0959 - age_out_loss: 4.0715 - sex_out_accuracy: 0.9635 - age_out_accuracy: 0.0472 - val_loss: 7.7445 - val_sex_out_loss: 0.6278 - val_age_out_loss: 6.8853 - val_sex_out_accuracy: 0.8866 - val_age_out_accuracy: 0.0479\n",
            "\n",
            "Epoch 00044: val_loss did not improve from 7.21554\n",
            "Epoch 45/500\n",
            "278/278 [==============================] - 13s 48ms/step - loss: 4.4535 - sex_out_loss: 0.0980 - age_out_loss: 4.1242 - sex_out_accuracy: 0.9630 - age_out_accuracy: 0.0472 - val_loss: 7.4788 - val_sex_out_loss: 0.5455 - val_age_out_loss: 6.7020 - val_sex_out_accuracy: 0.8890 - val_age_out_accuracy: 0.0479\n",
            "\n",
            "Epoch 00045: val_loss did not improve from 7.21554\n",
            "Epoch 46/500\n",
            "278/278 [==============================] - 13s 48ms/step - loss: 4.5433 - sex_out_loss: 0.1002 - age_out_loss: 4.2107 - sex_out_accuracy: 0.9621 - age_out_accuracy: 0.0472 - val_loss: 7.6260 - val_sex_out_loss: 0.6714 - val_age_out_loss: 6.7210 - val_sex_out_accuracy: 0.8883 - val_age_out_accuracy: 0.0479\n",
            "\n",
            "Epoch 00046: val_loss did not improve from 7.21554\n",
            "Epoch 47/500\n",
            "278/278 [==============================] - 13s 48ms/step - loss: 4.4071 - sex_out_loss: 0.0924 - age_out_loss: 4.0813 - sex_out_accuracy: 0.9660 - age_out_accuracy: 0.0472 - val_loss: 7.4174 - val_sex_out_loss: 0.5299 - val_age_out_loss: 6.6542 - val_sex_out_accuracy: 0.8841 - val_age_out_accuracy: 0.0479\n",
            "\n",
            "Epoch 00047: val_loss did not improve from 7.21554\n",
            "Epoch 48/500\n",
            "278/278 [==============================] - 13s 48ms/step - loss: 4.4498 - sex_out_loss: 0.0958 - age_out_loss: 4.1208 - sex_out_accuracy: 0.9652 - age_out_accuracy: 0.0472 - val_loss: 7.5289 - val_sex_out_loss: 0.5714 - val_age_out_loss: 6.7243 - val_sex_out_accuracy: 0.8844 - val_age_out_accuracy: 0.0479\n",
            "\n",
            "Epoch 00048: val_loss did not improve from 7.21554\n",
            "Epoch 49/500\n",
            "278/278 [==============================] - 13s 48ms/step - loss: 4.3772 - sex_out_loss: 0.0955 - age_out_loss: 4.0487 - sex_out_accuracy: 0.9642 - age_out_accuracy: 0.0472 - val_loss: 7.6690 - val_sex_out_loss: 0.6081 - val_age_out_loss: 6.8278 - val_sex_out_accuracy: 0.8892 - val_age_out_accuracy: 0.0479\n",
            "\n",
            "Epoch 00049: val_loss did not improve from 7.21554\n",
            "Epoch 50/500\n",
            "278/278 [==============================] - 13s 48ms/step - loss: 4.4110 - sex_out_loss: 0.0937 - age_out_loss: 4.0840 - sex_out_accuracy: 0.9657 - age_out_accuracy: 0.0472 - val_loss: 7.6437 - val_sex_out_loss: 0.6657 - val_age_out_loss: 6.7447 - val_sex_out_accuracy: 0.8919 - val_age_out_accuracy: 0.0479\n",
            "\n",
            "Epoch 00050: val_loss did not improve from 7.21554\n",
            "Epoch 51/500\n",
            "278/278 [==============================] - 13s 48ms/step - loss: 4.3328 - sex_out_loss: 0.0934 - age_out_loss: 4.0060 - sex_out_accuracy: 0.9666 - age_out_accuracy: 0.0472 - val_loss: 7.5101 - val_sex_out_loss: 0.5825 - val_age_out_loss: 6.6939 - val_sex_out_accuracy: 0.8866 - val_age_out_accuracy: 0.0479\n",
            "\n",
            "Epoch 00051: val_loss did not improve from 7.21554\n",
            "Epoch 52/500\n",
            "278/278 [==============================] - 13s 48ms/step - loss: 4.3811 - sex_out_loss: 0.0902 - age_out_loss: 4.0571 - sex_out_accuracy: 0.9673 - age_out_accuracy: 0.0472 - val_loss: 7.5635 - val_sex_out_loss: 0.6309 - val_age_out_loss: 6.6988 - val_sex_out_accuracy: 0.8871 - val_age_out_accuracy: 0.0479\n",
            "\n",
            "Epoch 00052: val_loss did not improve from 7.21554\n",
            "Epoch 53/500\n",
            "278/278 [==============================] - 13s 48ms/step - loss: 4.2955 - sex_out_loss: 0.0934 - age_out_loss: 3.9683 - sex_out_accuracy: 0.9664 - age_out_accuracy: 0.0472 - val_loss: 7.6499 - val_sex_out_loss: 0.6487 - val_age_out_loss: 6.7671 - val_sex_out_accuracy: 0.8886 - val_age_out_accuracy: 0.0479\n",
            "\n",
            "Epoch 00053: val_loss did not improve from 7.21554\n",
            "Epoch 54/500\n",
            "278/278 [==============================] - 13s 48ms/step - loss: 4.2864 - sex_out_loss: 0.0897 - age_out_loss: 3.9628 - sex_out_accuracy: 0.9664 - age_out_accuracy: 0.0472 - val_loss: 7.6498 - val_sex_out_loss: 0.6596 - val_age_out_loss: 6.7563 - val_sex_out_accuracy: 0.8866 - val_age_out_accuracy: 0.0479\n",
            "\n",
            "Epoch 00054: val_loss did not improve from 7.21554\n",
            "Epoch 55/500\n",
            "278/278 [==============================] - 13s 48ms/step - loss: 4.3446 - sex_out_loss: 0.0884 - age_out_loss: 4.0219 - sex_out_accuracy: 0.9648 - age_out_accuracy: 0.0472 - val_loss: 7.6776 - val_sex_out_loss: 0.6725 - val_age_out_loss: 6.7703 - val_sex_out_accuracy: 0.8905 - val_age_out_accuracy: 0.0479\n",
            "\n",
            "Epoch 00055: val_loss did not improve from 7.21554\n",
            "Epoch 56/500\n",
            "278/278 [==============================] - 13s 48ms/step - loss: 4.3300 - sex_out_loss: 0.0830 - age_out_loss: 4.0124 - sex_out_accuracy: 0.9669 - age_out_accuracy: 0.0472 - val_loss: 7.6504 - val_sex_out_loss: 0.5584 - val_age_out_loss: 6.8573 - val_sex_out_accuracy: 0.8939 - val_age_out_accuracy: 0.0479\n",
            "\n",
            "Epoch 00056: val_loss did not improve from 7.21554\n",
            "Epoch 57/500\n",
            "278/278 [==============================] - 13s 48ms/step - loss: 4.3055 - sex_out_loss: 0.0885 - age_out_loss: 3.9819 - sex_out_accuracy: 0.9628 - age_out_accuracy: 0.0472 - val_loss: 7.4946 - val_sex_out_loss: 0.6002 - val_age_out_loss: 6.6585 - val_sex_out_accuracy: 0.8880 - val_age_out_accuracy: 0.0479\n",
            "\n",
            "Epoch 00057: val_loss did not improve from 7.21554\n",
            "Epoch 58/500\n",
            "278/278 [==============================] - 13s 48ms/step - loss: 4.2841 - sex_out_loss: 0.0765 - age_out_loss: 3.9716 - sex_out_accuracy: 0.9696 - age_out_accuracy: 0.0472 - val_loss: 7.5083 - val_sex_out_loss: 0.6649 - val_age_out_loss: 6.6075 - val_sex_out_accuracy: 0.8883 - val_age_out_accuracy: 0.0479\n",
            "\n",
            "Epoch 00058: val_loss did not improve from 7.21554\n",
            "Epoch 59/500\n",
            "278/278 [==============================] - 13s 48ms/step - loss: 4.2892 - sex_out_loss: 0.0808 - age_out_loss: 3.9724 - sex_out_accuracy: 0.9659 - age_out_accuracy: 0.0472 - val_loss: 7.7605 - val_sex_out_loss: 0.6352 - val_age_out_loss: 6.8886 - val_sex_out_accuracy: 0.8892 - val_age_out_accuracy: 0.0479\n",
            "\n",
            "Epoch 00059: val_loss did not improve from 7.21554\n",
            "Epoch 60/500\n",
            "278/278 [==============================] - 13s 48ms/step - loss: 4.3238 - sex_out_loss: 0.0790 - age_out_loss: 4.0083 - sex_out_accuracy: 0.9666 - age_out_accuracy: 0.0472 - val_loss: 7.5891 - val_sex_out_loss: 0.5786 - val_age_out_loss: 6.7739 - val_sex_out_accuracy: 0.8849 - val_age_out_accuracy: 0.0479\n",
            "\n",
            "Epoch 00060: val_loss did not improve from 7.21554\n",
            "Epoch 61/500\n",
            "278/278 [==============================] - 13s 48ms/step - loss: 4.2165 - sex_out_loss: 0.0794 - age_out_loss: 3.9011 - sex_out_accuracy: 0.9667 - age_out_accuracy: 0.0472 - val_loss: 7.6655 - val_sex_out_loss: 0.6198 - val_age_out_loss: 6.8102 - val_sex_out_accuracy: 0.8900 - val_age_out_accuracy: 0.0479\n",
            "\n",
            "Epoch 00061: val_loss did not improve from 7.21554\n",
            "Epoch 62/500\n",
            "278/278 [==============================] - 13s 48ms/step - loss: 4.2818 - sex_out_loss: 0.0780 - age_out_loss: 3.9674 - sex_out_accuracy: 0.9668 - age_out_accuracy: 0.0472 - val_loss: 7.6198 - val_sex_out_loss: 0.6356 - val_age_out_loss: 6.7469 - val_sex_out_accuracy: 0.8881 - val_age_out_accuracy: 0.0479\n",
            "\n",
            "Epoch 00062: val_loss did not improve from 7.21554\n",
            "Epoch 63/500\n",
            "278/278 [==============================] - 13s 48ms/step - loss: 4.2457 - sex_out_loss: 0.0759 - age_out_loss: 3.9327 - sex_out_accuracy: 0.9675 - age_out_accuracy: 0.0472 - val_loss: 7.5290 - val_sex_out_loss: 0.5737 - val_age_out_loss: 6.7186 - val_sex_out_accuracy: 0.8880 - val_age_out_accuracy: 0.0479\n",
            "\n",
            "Epoch 00063: val_loss did not improve from 7.21554\n",
            "Epoch 64/500\n",
            "278/278 [==============================] - 13s 48ms/step - loss: 4.2684 - sex_out_loss: 0.0771 - age_out_loss: 3.9543 - sex_out_accuracy: 0.9666 - age_out_accuracy: 0.0472 - val_loss: 7.9510 - val_sex_out_loss: 0.6362 - val_age_out_loss: 7.0776 - val_sex_out_accuracy: 0.8922 - val_age_out_accuracy: 0.0479\n",
            "\n",
            "Epoch 00064: val_loss did not improve from 7.21554\n",
            "Epoch 65/500\n",
            "278/278 [==============================] - 13s 48ms/step - loss: 4.2462 - sex_out_loss: 0.0723 - age_out_loss: 3.9371 - sex_out_accuracy: 0.9681 - age_out_accuracy: 0.0472 - val_loss: 7.5000 - val_sex_out_loss: 0.6618 - val_age_out_loss: 6.6017 - val_sex_out_accuracy: 0.8903 - val_age_out_accuracy: 0.0479\n",
            "\n",
            "Epoch 00065: val_loss did not improve from 7.21554\n",
            "Epoch 66/500\n",
            "278/278 [==============================] - 13s 48ms/step - loss: 4.1832 - sex_out_loss: 0.0729 - age_out_loss: 3.8739 - sex_out_accuracy: 0.9681 - age_out_accuracy: 0.0472 - val_loss: 7.4648 - val_sex_out_loss: 0.6016 - val_age_out_loss: 6.6270 - val_sex_out_accuracy: 0.8924 - val_age_out_accuracy: 0.0479\n",
            "\n",
            "Epoch 00066: val_loss did not improve from 7.21554\n",
            "Epoch 67/500\n",
            "278/278 [==============================] - 13s 48ms/step - loss: 4.1923 - sex_out_loss: 0.0725 - age_out_loss: 3.8835 - sex_out_accuracy: 0.9678 - age_out_accuracy: 0.0472 - val_loss: 7.5560 - val_sex_out_loss: 0.6376 - val_age_out_loss: 6.6813 - val_sex_out_accuracy: 0.8892 - val_age_out_accuracy: 0.0479\n",
            "\n",
            "Epoch 00067: val_loss did not improve from 7.21554\n",
            "Epoch 68/500\n",
            "278/278 [==============================] - 13s 48ms/step - loss: 4.1989 - sex_out_loss: 0.0704 - age_out_loss: 3.8920 - sex_out_accuracy: 0.9696 - age_out_accuracy: 0.0472 - val_loss: 7.8227 - val_sex_out_loss: 0.7014 - val_age_out_loss: 6.8851 - val_sex_out_accuracy: 0.8886 - val_age_out_accuracy: 0.0479\n",
            "\n",
            "Epoch 00068: val_loss did not improve from 7.21554\n",
            "Epoch 69/500\n",
            "278/278 [==============================] - 13s 48ms/step - loss: 4.2115 - sex_out_loss: 0.0678 - age_out_loss: 3.9072 - sex_out_accuracy: 0.9699 - age_out_accuracy: 0.0472 - val_loss: 8.3222 - val_sex_out_loss: 0.6909 - val_age_out_loss: 7.3952 - val_sex_out_accuracy: 0.8910 - val_age_out_accuracy: 0.0479\n",
            "\n",
            "Epoch 00069: val_loss did not improve from 7.21554\n",
            "Epoch 70/500\n",
            "278/278 [==============================] - 13s 48ms/step - loss: 4.1732 - sex_out_loss: 0.0704 - age_out_loss: 3.8664 - sex_out_accuracy: 0.9675 - age_out_accuracy: 0.0472 - val_loss: 7.5324 - val_sex_out_loss: 0.6979 - val_age_out_loss: 6.5980 - val_sex_out_accuracy: 0.8917 - val_age_out_accuracy: 0.0479\n",
            "\n",
            "Epoch 00070: val_loss did not improve from 7.21554\n",
            "Epoch 71/500\n",
            "278/278 [==============================] - 13s 48ms/step - loss: 4.1609 - sex_out_loss: 0.0678 - age_out_loss: 3.8566 - sex_out_accuracy: 0.9688 - age_out_accuracy: 0.0472 - val_loss: 7.5763 - val_sex_out_loss: 0.6576 - val_age_out_loss: 6.6821 - val_sex_out_accuracy: 0.8900 - val_age_out_accuracy: 0.0479\n",
            "\n",
            "Epoch 00071: val_loss did not improve from 7.21554\n",
            "Epoch 72/500\n",
            "278/278 [==============================] - 13s 48ms/step - loss: 4.1678 - sex_out_loss: 0.0673 - age_out_loss: 3.8639 - sex_out_accuracy: 0.9684 - age_out_accuracy: 0.0472 - val_loss: 7.6471 - val_sex_out_loss: 0.5989 - val_age_out_loss: 6.8119 - val_sex_out_accuracy: 0.8881 - val_age_out_accuracy: 0.0479\n",
            "\n",
            "Epoch 00072: val_loss did not improve from 7.21554\n",
            "Epoch 73/500\n",
            "278/278 [==============================] - 13s 48ms/step - loss: 4.1767 - sex_out_loss: 0.0661 - age_out_loss: 3.8746 - sex_out_accuracy: 0.9696 - age_out_accuracy: 0.0472 - val_loss: 7.5515 - val_sex_out_loss: 0.6754 - val_age_out_loss: 6.6404 - val_sex_out_accuracy: 0.8881 - val_age_out_accuracy: 0.0479\n",
            "\n",
            "Epoch 00073: val_loss did not improve from 7.21554\n",
            "Epoch 74/500\n",
            "278/278 [==============================] - 13s 48ms/step - loss: 4.1674 - sex_out_loss: 0.0706 - age_out_loss: 3.8610 - sex_out_accuracy: 0.9678 - age_out_accuracy: 0.0472 - val_loss: 7.6879 - val_sex_out_loss: 0.6979 - val_age_out_loss: 6.7542 - val_sex_out_accuracy: 0.8920 - val_age_out_accuracy: 0.0479\n",
            "\n",
            "Epoch 00074: val_loss did not improve from 7.21554\n",
            "Epoch 75/500\n",
            "278/278 [==============================] - 13s 48ms/step - loss: 4.1307 - sex_out_loss: 0.0656 - age_out_loss: 3.8293 - sex_out_accuracy: 0.9697 - age_out_accuracy: 0.0472 - val_loss: 7.6975 - val_sex_out_loss: 0.7474 - val_age_out_loss: 6.7138 - val_sex_out_accuracy: 0.8924 - val_age_out_accuracy: 0.0479\n",
            "\n",
            "Epoch 00075: val_loss did not improve from 7.21554\n",
            "Epoch 76/500\n",
            "278/278 [==============================] - 13s 48ms/step - loss: 4.1668 - sex_out_loss: 0.0676 - age_out_loss: 3.8637 - sex_out_accuracy: 0.9670 - age_out_accuracy: 0.0472 - val_loss: 7.7372 - val_sex_out_loss: 0.6765 - val_age_out_loss: 6.8251 - val_sex_out_accuracy: 0.8898 - val_age_out_accuracy: 0.0479\n",
            "\n",
            "Epoch 00076: val_loss did not improve from 7.21554\n",
            "Epoch 77/500\n",
            "278/278 [==============================] - 13s 48ms/step - loss: 4.1285 - sex_out_loss: 0.0700 - age_out_loss: 3.8230 - sex_out_accuracy: 0.9663 - age_out_accuracy: 0.0472 - val_loss: 7.8164 - val_sex_out_loss: 0.6099 - val_age_out_loss: 6.9707 - val_sex_out_accuracy: 0.8875 - val_age_out_accuracy: 0.0479\n",
            "\n",
            "Epoch 00077: val_loss did not improve from 7.21554\n",
            "Epoch 78/500\n",
            "278/278 [==============================] - 13s 48ms/step - loss: 4.1073 - sex_out_loss: 0.0641 - age_out_loss: 3.8073 - sex_out_accuracy: 0.9701 - age_out_accuracy: 0.0472 - val_loss: 7.8228 - val_sex_out_loss: 0.6627 - val_age_out_loss: 6.9238 - val_sex_out_accuracy: 0.8880 - val_age_out_accuracy: 0.0479\n",
            "\n",
            "Epoch 00078: val_loss did not improve from 7.21554\n",
            "Epoch 79/500\n",
            "278/278 [==============================] - 13s 48ms/step - loss: 4.1565 - sex_out_loss: 0.0674 - age_out_loss: 3.8527 - sex_out_accuracy: 0.9663 - age_out_accuracy: 0.0472 - val_loss: 7.5463 - val_sex_out_loss: 0.7199 - val_age_out_loss: 6.5901 - val_sex_out_accuracy: 0.8925 - val_age_out_accuracy: 0.0479\n",
            "\n",
            "Epoch 00079: val_loss did not improve from 7.21554\n",
            "Epoch 80/500\n",
            "278/278 [==============================] - 13s 48ms/step - loss: 4.1686 - sex_out_loss: 0.0623 - age_out_loss: 3.8697 - sex_out_accuracy: 0.9699 - age_out_accuracy: 0.0472 - val_loss: 7.5228 - val_sex_out_loss: 0.6648 - val_age_out_loss: 6.6213 - val_sex_out_accuracy: 0.8898 - val_age_out_accuracy: 0.0479\n",
            "\n",
            "Epoch 00080: val_loss did not improve from 7.21554\n",
            "Epoch 81/500\n",
            "278/278 [==============================] - 13s 48ms/step - loss: 4.1018 - sex_out_loss: 0.0626 - age_out_loss: 3.8026 - sex_out_accuracy: 0.9687 - age_out_accuracy: 0.0472 - val_loss: 7.6346 - val_sex_out_loss: 0.5665 - val_age_out_loss: 6.8309 - val_sex_out_accuracy: 0.8849 - val_age_out_accuracy: 0.0479\n",
            "\n",
            "Epoch 00081: val_loss did not improve from 7.21554\n",
            "Epoch 82/500\n",
            "278/278 [==============================] - 13s 48ms/step - loss: 4.0558 - sex_out_loss: 0.0594 - age_out_loss: 3.7593 - sex_out_accuracy: 0.9713 - age_out_accuracy: 0.0472 - val_loss: 7.5936 - val_sex_out_loss: 0.7323 - val_age_out_loss: 6.6242 - val_sex_out_accuracy: 0.8895 - val_age_out_accuracy: 0.0479\n",
            "\n",
            "Epoch 00082: val_loss did not improve from 7.21554\n",
            "Epoch 83/500\n",
            "278/278 [==============================] - 13s 48ms/step - loss: 4.1768 - sex_out_loss: 0.0635 - age_out_loss: 3.8757 - sex_out_accuracy: 0.9679 - age_out_accuracy: 0.0472 - val_loss: 7.8357 - val_sex_out_loss: 0.6620 - val_age_out_loss: 6.9359 - val_sex_out_accuracy: 0.8886 - val_age_out_accuracy: 0.0479\n",
            "\n",
            "Epoch 00083: val_loss did not improve from 7.21554\n",
            "Epoch 84/500\n",
            "278/278 [==============================] - 13s 48ms/step - loss: 4.0610 - sex_out_loss: 0.0629 - age_out_loss: 3.7606 - sex_out_accuracy: 0.9687 - age_out_accuracy: 0.0472 - val_loss: 7.7229 - val_sex_out_loss: 0.7802 - val_age_out_loss: 6.7056 - val_sex_out_accuracy: 0.8871 - val_age_out_accuracy: 0.0479\n",
            "\n",
            "Epoch 00084: val_loss did not improve from 7.21554\n",
            "Epoch 85/500\n",
            "278/278 [==============================] - 13s 48ms/step - loss: 4.0874 - sex_out_loss: 0.0605 - age_out_loss: 3.7901 - sex_out_accuracy: 0.9702 - age_out_accuracy: 0.0472 - val_loss: 7.4212 - val_sex_out_loss: 0.6029 - val_age_out_loss: 6.5817 - val_sex_out_accuracy: 0.8878 - val_age_out_accuracy: 0.0479\n",
            "\n",
            "Epoch 00085: val_loss did not improve from 7.21554\n",
            "Epoch 86/500\n",
            "278/278 [==============================] - 13s 48ms/step - loss: 4.0886 - sex_out_loss: 0.0631 - age_out_loss: 3.7889 - sex_out_accuracy: 0.9682 - age_out_accuracy: 0.0472 - val_loss: 7.6978 - val_sex_out_loss: 0.4980 - val_age_out_loss: 6.9636 - val_sex_out_accuracy: 0.8859 - val_age_out_accuracy: 0.0479\n",
            "\n",
            "Epoch 00086: val_loss did not improve from 7.21554\n",
            "Epoch 87/500\n",
            "278/278 [==============================] - 13s 48ms/step - loss: 4.0600 - sex_out_loss: 0.0601 - age_out_loss: 3.7646 - sex_out_accuracy: 0.9713 - age_out_accuracy: 0.0472 - val_loss: 7.6122 - val_sex_out_loss: 0.6369 - val_age_out_loss: 6.7401 - val_sex_out_accuracy: 0.8885 - val_age_out_accuracy: 0.0479\n",
            "\n",
            "Epoch 00087: val_loss did not improve from 7.21554\n",
            "Epoch 88/500\n",
            "278/278 [==============================] - 13s 48ms/step - loss: 4.1545 - sex_out_loss: 0.0591 - age_out_loss: 3.8598 - sex_out_accuracy: 0.9707 - age_out_accuracy: 0.0472 - val_loss: 7.5696 - val_sex_out_loss: 0.5953 - val_age_out_loss: 6.7382 - val_sex_out_accuracy: 0.8885 - val_age_out_accuracy: 0.0479\n",
            "\n",
            "Epoch 00088: val_loss did not improve from 7.21554\n",
            "Epoch 89/500\n",
            "278/278 [==============================] - 13s 48ms/step - loss: 4.1111 - sex_out_loss: 0.0608 - age_out_loss: 3.8142 - sex_out_accuracy: 0.9688 - age_out_accuracy: 0.0472 - val_loss: 7.5030 - val_sex_out_loss: 0.5736 - val_age_out_loss: 6.6938 - val_sex_out_accuracy: 0.8817 - val_age_out_accuracy: 0.0479\n",
            "\n",
            "Epoch 00089: val_loss did not improve from 7.21554\n",
            "Epoch 90/500\n",
            "278/278 [==============================] - 13s 48ms/step - loss: 4.0851 - sex_out_loss: 0.0590 - age_out_loss: 3.7910 - sex_out_accuracy: 0.9701 - age_out_accuracy: 0.0472 - val_loss: 7.9360 - val_sex_out_loss: 0.6832 - val_age_out_loss: 7.0175 - val_sex_out_accuracy: 0.8892 - val_age_out_accuracy: 0.0479\n",
            "\n",
            "Epoch 00090: val_loss did not improve from 7.21554\n",
            "Epoch 91/500\n",
            "278/278 [==============================] - 13s 48ms/step - loss: 4.0744 - sex_out_loss: 0.0597 - age_out_loss: 3.7788 - sex_out_accuracy: 0.9688 - age_out_accuracy: 0.0472 - val_loss: 7.5573 - val_sex_out_loss: 0.6672 - val_age_out_loss: 6.6538 - val_sex_out_accuracy: 0.8913 - val_age_out_accuracy: 0.0479\n",
            "\n",
            "Epoch 00091: val_loss did not improve from 7.21554\n",
            "Epoch 92/500\n",
            "278/278 [==============================] - 13s 48ms/step - loss: 4.0636 - sex_out_loss: 0.0576 - age_out_loss: 3.7699 - sex_out_accuracy: 0.9699 - age_out_accuracy: 0.0472 - val_loss: 7.7344 - val_sex_out_loss: 0.6573 - val_age_out_loss: 6.8411 - val_sex_out_accuracy: 0.8905 - val_age_out_accuracy: 0.0479\n",
            "\n",
            "Epoch 00092: val_loss did not improve from 7.21554\n",
            "Epoch 93/500\n",
            "278/278 [==============================] - 13s 48ms/step - loss: 4.0973 - sex_out_loss: 0.0588 - age_out_loss: 3.8025 - sex_out_accuracy: 0.9706 - age_out_accuracy: 0.0472 - val_loss: 7.7719 - val_sex_out_loss: 0.7169 - val_age_out_loss: 6.8193 - val_sex_out_accuracy: 0.8951 - val_age_out_accuracy: 0.0479\n",
            "\n",
            "Epoch 00093: val_loss did not improve from 7.21554\n"
          ],
          "name": "stdout"
        }
      ]
    },
    {
      "cell_type": "code",
      "metadata": {
        "id": "vxCCVmY938bM"
      },
      "source": [
        "from google.colab.patches import cv2_imshow"
      ],
      "execution_count": 13,
      "outputs": []
    },
    {
      "cell_type": "code",
      "metadata": {
        "colab": {
          "base_uri": "https://localhost:8080/",
          "height": 302
        },
        "id": "y1g4aXvs-Q4U",
        "outputId": "006b44d1-fdf1-4a58-fa6a-55e68858b9bf"
      },
      "source": [
        "import random\n",
        "import tensorflow as tf\n",
        "import matplotlib.pyplot as plt\n",
        "\n",
        "image_test_path = random.choice(images_path)\n",
        "test_image = cv2.imread(image_test_path)\n",
        "actual_age = image_test_path.split(\"_\")[0].split(\"/\")[-1]\n",
        "actual_gender = image_test_path.split(\"_\")[1]\n",
        "test_image = tf.keras.preprocessing.image.load_img(\n",
        "    image_test_path, target_size=(48, 48)\n",
        ")\n",
        "plt.imshow(test_image)\n",
        "img_array = tf.keras.preprocessing.image.img_to_array(test_image)\n",
        "img_array = tf.expand_dims(img_array, 0) \n",
        "pred = model.predict(img_array)\n",
        "sexs=['Male','Female']   \n",
        "predict_age = int(np.round(pred[1][0]))   \n",
        "predict_sex = int(np.round(pred[0][0]))  \n",
        "print(\"Actual Sex: \"+ sexs[int(actual_gender)])\n",
        "print(\"Predicted Sex: \"+ sexs[predict_sex])"
      ],
      "execution_count": 25,
      "outputs": [
        {
          "output_type": "stream",
          "text": [
            "Actual Sex: Female\n",
            "Predicted Sex: Female\n"
          ],
          "name": "stdout"
        },
        {
          "output_type": "display_data",
          "data": {
            "image/png": "[encoded data removed]",
            "text/plain": [
              "<Figure size 432x288 with 1 Axes>"
            ]
          },
          "metadata": {
            "tags": [],
            "needs_background": "light"
          }
        }
      ]
    },
    {
      "cell_type": "code",
      "metadata": {
        "id": "9rHXK3cj-V0C"
      },
      "source": [
        ""
      ],
      "execution_count": null,
      "outputs": []
    }
  ]
}